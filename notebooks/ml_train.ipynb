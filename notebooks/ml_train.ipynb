{
 "cells": [
  {
   "cell_type": "code",
   "execution_count": 31,
   "metadata": {},
   "outputs": [],
   "source": [
    "import pandas as pd\n",
    "import numpy as np\n",
    "import matplotlib.pyplot as plt\n",
    "import seaborn as sns\n",
    "import sys, os\n",
    "from sklearn.preprocessing import StandardScaler\n",
    "from sklearn.ensemble import RandomForestRegressor\n",
    "from sklearn.pipeline import Pipeline\n",
    "from sklearn.preprocessing import OneHotEncoder\n",
    "from sklearn.compose import ColumnTransformer\n",
    "import mlflow\n",
    "import mlflow.sklearn\n",
    "\n"
   ]
  },
  {
   "cell_type": "code",
   "execution_count": 32,
   "metadata": {},
   "outputs": [],
   "source": [
    "sys.path.append('../')\n",
    "from scripts.preprocess import Preprocess\n",
    "from scripts.logger import Logger\n",
    "from scripts.plot import Plot\n",
    "from scripts.utilities import Utilities\n",
    "\n",
    "preprocess = Preprocess()\n",
    "plot = Plot()\n",
    "utils = Utilities()"
   ]
  },
  {
   "cell_type": "code",
   "execution_count": 33,
   "metadata": {},
   "outputs": [
    {
     "name": "stderr",
     "output_type": "stream",
     "text": [
      "/home/nardos/Documents/10Academy/Pharmaceutical/Pharmaceutical-Sales-Prediction/notebooks/../scripts/utilities.py:12: DtypeWarning: Columns (7) have mixed types. Specify dtype option on import or set low_memory=False.\n",
      "  dataframe = pd.read_csv(io.StringIO(data))\n"
     ]
    }
   ],
   "source": [
    "train_df = utils.get_df(path='data/train.csv',rep='../',rev='tagv1')\n",
    "test_df = utils.get_df(path='data/test.csv',rep='../', rev='tagv1')\n",
    "store_df = utils.get_df(path='data/store.csv',rep='../',rev='tagv1')\n",
    "sub_df = utils.get_df(path='data/sample_submission.csv', rep='../', rev='tagv1')\n"
   ]
  },
  {
   "cell_type": "code",
   "execution_count": 4,
   "metadata": {},
   "outputs": [
    {
     "data": {
      "text/html": [
       "<div>\n",
       "<style scoped>\n",
       "    .dataframe tbody tr th:only-of-type {\n",
       "        vertical-align: middle;\n",
       "    }\n",
       "\n",
       "    .dataframe tbody tr th {\n",
       "        vertical-align: top;\n",
       "    }\n",
       "\n",
       "    .dataframe thead th {\n",
       "        text-align: right;\n",
       "    }\n",
       "</style>\n",
       "<table border=\"1\" class=\"dataframe\">\n",
       "  <thead>\n",
       "    <tr style=\"text-align: right;\">\n",
       "      <th></th>\n",
       "      <th>Store</th>\n",
       "      <th>DayOfWeek</th>\n",
       "      <th>Date</th>\n",
       "      <th>Sales</th>\n",
       "      <th>Customers</th>\n",
       "      <th>Open</th>\n",
       "      <th>Promo</th>\n",
       "      <th>StateHoliday</th>\n",
       "      <th>SchoolHoliday</th>\n",
       "      <th>StoreType</th>\n",
       "      <th>Assortment</th>\n",
       "      <th>CompetitionDistance</th>\n",
       "      <th>CompetitionOpenSinceMonth</th>\n",
       "      <th>CompetitionOpenSinceYear</th>\n",
       "      <th>Promo2</th>\n",
       "      <th>Promo2SinceWeek</th>\n",
       "      <th>Promo2SinceYear</th>\n",
       "      <th>PromoInterval</th>\n",
       "    </tr>\n",
       "  </thead>\n",
       "  <tbody>\n",
       "    <tr>\n",
       "      <th>0</th>\n",
       "      <td>1</td>\n",
       "      <td>5</td>\n",
       "      <td>2015-07-31</td>\n",
       "      <td>5263</td>\n",
       "      <td>555</td>\n",
       "      <td>1</td>\n",
       "      <td>1</td>\n",
       "      <td>0</td>\n",
       "      <td>1</td>\n",
       "      <td>c</td>\n",
       "      <td>a</td>\n",
       "      <td>1270.0</td>\n",
       "      <td>9.0</td>\n",
       "      <td>2008.0</td>\n",
       "      <td>0</td>\n",
       "      <td>22.0</td>\n",
       "      <td>2012.0</td>\n",
       "      <td>Jan,Apr,Jul,Oct</td>\n",
       "    </tr>\n",
       "    <tr>\n",
       "      <th>1</th>\n",
       "      <td>1</td>\n",
       "      <td>4</td>\n",
       "      <td>2015-07-30</td>\n",
       "      <td>5020</td>\n",
       "      <td>546</td>\n",
       "      <td>1</td>\n",
       "      <td>1</td>\n",
       "      <td>0</td>\n",
       "      <td>1</td>\n",
       "      <td>c</td>\n",
       "      <td>a</td>\n",
       "      <td>1270.0</td>\n",
       "      <td>9.0</td>\n",
       "      <td>2008.0</td>\n",
       "      <td>0</td>\n",
       "      <td>22.0</td>\n",
       "      <td>2012.0</td>\n",
       "      <td>Jan,Apr,Jul,Oct</td>\n",
       "    </tr>\n",
       "    <tr>\n",
       "      <th>2</th>\n",
       "      <td>1</td>\n",
       "      <td>3</td>\n",
       "      <td>2015-07-29</td>\n",
       "      <td>4782</td>\n",
       "      <td>523</td>\n",
       "      <td>1</td>\n",
       "      <td>1</td>\n",
       "      <td>0</td>\n",
       "      <td>1</td>\n",
       "      <td>c</td>\n",
       "      <td>a</td>\n",
       "      <td>1270.0</td>\n",
       "      <td>9.0</td>\n",
       "      <td>2008.0</td>\n",
       "      <td>0</td>\n",
       "      <td>22.0</td>\n",
       "      <td>2012.0</td>\n",
       "      <td>Jan,Apr,Jul,Oct</td>\n",
       "    </tr>\n",
       "    <tr>\n",
       "      <th>3</th>\n",
       "      <td>1</td>\n",
       "      <td>2</td>\n",
       "      <td>2015-07-28</td>\n",
       "      <td>5011</td>\n",
       "      <td>560</td>\n",
       "      <td>1</td>\n",
       "      <td>1</td>\n",
       "      <td>0</td>\n",
       "      <td>1</td>\n",
       "      <td>c</td>\n",
       "      <td>a</td>\n",
       "      <td>1270.0</td>\n",
       "      <td>9.0</td>\n",
       "      <td>2008.0</td>\n",
       "      <td>0</td>\n",
       "      <td>22.0</td>\n",
       "      <td>2012.0</td>\n",
       "      <td>Jan,Apr,Jul,Oct</td>\n",
       "    </tr>\n",
       "    <tr>\n",
       "      <th>4</th>\n",
       "      <td>1</td>\n",
       "      <td>1</td>\n",
       "      <td>2015-07-27</td>\n",
       "      <td>6102</td>\n",
       "      <td>612</td>\n",
       "      <td>1</td>\n",
       "      <td>1</td>\n",
       "      <td>0</td>\n",
       "      <td>1</td>\n",
       "      <td>c</td>\n",
       "      <td>a</td>\n",
       "      <td>1270.0</td>\n",
       "      <td>9.0</td>\n",
       "      <td>2008.0</td>\n",
       "      <td>0</td>\n",
       "      <td>22.0</td>\n",
       "      <td>2012.0</td>\n",
       "      <td>Jan,Apr,Jul,Oct</td>\n",
       "    </tr>\n",
       "  </tbody>\n",
       "</table>\n",
       "</div>"
      ],
      "text/plain": [
       "   Store  DayOfWeek        Date  Sales  Customers  Open  Promo StateHoliday  \\\n",
       "0      1          5  2015-07-31   5263        555     1      1            0   \n",
       "1      1          4  2015-07-30   5020        546     1      1            0   \n",
       "2      1          3  2015-07-29   4782        523     1      1            0   \n",
       "3      1          2  2015-07-28   5011        560     1      1            0   \n",
       "4      1          1  2015-07-27   6102        612     1      1            0   \n",
       "\n",
       "   SchoolHoliday StoreType Assortment  CompetitionDistance  \\\n",
       "0              1         c          a               1270.0   \n",
       "1              1         c          a               1270.0   \n",
       "2              1         c          a               1270.0   \n",
       "3              1         c          a               1270.0   \n",
       "4              1         c          a               1270.0   \n",
       "\n",
       "   CompetitionOpenSinceMonth  CompetitionOpenSinceYear  Promo2  \\\n",
       "0                        9.0                    2008.0       0   \n",
       "1                        9.0                    2008.0       0   \n",
       "2                        9.0                    2008.0       0   \n",
       "3                        9.0                    2008.0       0   \n",
       "4                        9.0                    2008.0       0   \n",
       "\n",
       "   Promo2SinceWeek  Promo2SinceYear    PromoInterval  \n",
       "0             22.0           2012.0  Jan,Apr,Jul,Oct  \n",
       "1             22.0           2012.0  Jan,Apr,Jul,Oct  \n",
       "2             22.0           2012.0  Jan,Apr,Jul,Oct  \n",
       "3             22.0           2012.0  Jan,Apr,Jul,Oct  \n",
       "4             22.0           2012.0  Jan,Apr,Jul,Oct  "
      ]
     },
     "execution_count": 4,
     "metadata": {},
     "output_type": "execute_result"
    }
   ],
   "source": [
    "train_store = pd.read_csv('../data/train_store.csv')\n",
    "test_store = pd.read_csv('../data/test_store.csv')\n",
    "train_store.head()"
   ]
  },
  {
   "cell_type": "code",
   "execution_count": 34,
   "metadata": {},
   "outputs": [
    {
     "data": {
      "text/plain": [
       "['Store',\n",
       " 'DayOfWeek',\n",
       " 'Customers',\n",
       " 'Open',\n",
       " 'Promo',\n",
       " 'SchoolHoliday',\n",
       " 'CompetitionDistance',\n",
       " 'CompetitionOpenSinceMonth',\n",
       " 'CompetitionOpenSinceYear',\n",
       " 'Promo2',\n",
       " 'Promo2SinceWeek',\n",
       " 'Promo2SinceYear']"
      ]
     },
     "execution_count": 34,
     "metadata": {},
     "output_type": "execute_result"
    }
   ],
   "source": [
    "numerical_columns = train_store.drop(columns = ['Sales']).select_dtypes(include='number').columns.to_list()\n",
    "numerical_columns"
   ]
  },
  {
   "cell_type": "code",
   "execution_count": 35,
   "metadata": {},
   "outputs": [
    {
     "data": {
      "text/plain": [
       "['StateHoliday', 'StoreType', 'Assortment', 'PromoInterval']"
      ]
     },
     "execution_count": 35,
     "metadata": {},
     "output_type": "execute_result"
    }
   ],
   "source": [
    "catagorical_colunms = train_store.select_dtypes(include=['object','boolean']).columns.to_list()[1:]\n",
    "catagorical_colunms"
   ]
  },
  {
   "cell_type": "code",
   "execution_count": 36,
   "metadata": {},
   "outputs": [],
   "source": [
    "Date = train_store.Date"
   ]
  },
  {
   "cell_type": "code",
   "execution_count": 37,
   "metadata": {},
   "outputs": [],
   "source": [
    "\n",
    "oneHotEncoder = OneHotEncoder()\n"
   ]
  },
  {
   "cell_type": "code",
   "execution_count": 38,
   "metadata": {},
   "outputs": [],
   "source": [
    "catagorical_transformer = Pipeline(steps=[\n",
    "    ('oneHotEncoder', OneHotEncoder())\n",
    "])\n",
    "# catagorical_transformer\n",
    "numerical_transformers= Pipeline(steps=[\n",
    "    ('standardScaler', StandardScaler())\n",
    "])\n",
    "# numerical_transformers"
   ]
  },
  {
   "cell_type": "code",
   "execution_count": 39,
   "metadata": {},
   "outputs": [],
   "source": [
    "preproceser = ColumnTransformer(transformers=[\n",
    "    \n",
    "    ('numerical_transformers', numerical_transformers, numerical_columns),\n",
    "    ('catagorical_trandsformer', catagorical_transformer, catagorical_colunms),\n",
    "   ])\n",
    "\n",
    "pipeline = Pipeline(steps=[\n",
    "    ('preproceser', preproceser),\n",
    "    ('modeling', RandomForestRegressor(n_jobs= 4)),\n",
    "])"
   ]
  },
  {
   "cell_type": "code",
   "execution_count": 40,
   "metadata": {},
   "outputs": [
    {
     "data": {
      "text/plain": [
       "((9000, 18), (1000, 18))"
      ]
     },
     "execution_count": 40,
     "metadata": {},
     "output_type": "execute_result"
    }
   ],
   "source": [
    "\n",
    "train_store.sort_values('Date', ascending = True, inplace = True)\n",
    "train_store = train_store.iloc[:10000, :]\n",
    "ratio = int(len(train_store) * 0.9)\n",
    "train, val = train_store.iloc[:ratio, :], train_store.iloc[ratio:, :]\n",
    "train.shape ,val.shape\n"
   ]
  },
  {
   "cell_type": "code",
   "execution_count": 43,
   "metadata": {},
   "outputs": [
    {
     "data": {
      "text/html": [
       "<style>#sk-container-id-3 {color: black;background-color: white;}#sk-container-id-3 pre{padding: 0;}#sk-container-id-3 div.sk-toggleable {background-color: white;}#sk-container-id-3 label.sk-toggleable__label {cursor: pointer;display: block;width: 100%;margin-bottom: 0;padding: 0.3em;box-sizing: border-box;text-align: center;}#sk-container-id-3 label.sk-toggleable__label-arrow:before {content: \"▸\";float: left;margin-right: 0.25em;color: #696969;}#sk-container-id-3 label.sk-toggleable__label-arrow:hover:before {color: black;}#sk-container-id-3 div.sk-estimator:hover label.sk-toggleable__label-arrow:before {color: black;}#sk-container-id-3 div.sk-toggleable__content {max-height: 0;max-width: 0;overflow: hidden;text-align: left;background-color: #f0f8ff;}#sk-container-id-3 div.sk-toggleable__content pre {margin: 0.2em;color: black;border-radius: 0.25em;background-color: #f0f8ff;}#sk-container-id-3 input.sk-toggleable__control:checked~div.sk-toggleable__content {max-height: 200px;max-width: 100%;overflow: auto;}#sk-container-id-3 input.sk-toggleable__control:checked~label.sk-toggleable__label-arrow:before {content: \"▾\";}#sk-container-id-3 div.sk-estimator input.sk-toggleable__control:checked~label.sk-toggleable__label {background-color: #d4ebff;}#sk-container-id-3 div.sk-label input.sk-toggleable__control:checked~label.sk-toggleable__label {background-color: #d4ebff;}#sk-container-id-3 input.sk-hidden--visually {border: 0;clip: rect(1px 1px 1px 1px);clip: rect(1px, 1px, 1px, 1px);height: 1px;margin: -1px;overflow: hidden;padding: 0;position: absolute;width: 1px;}#sk-container-id-3 div.sk-estimator {font-family: monospace;background-color: #f0f8ff;border: 1px dotted black;border-radius: 0.25em;box-sizing: border-box;margin-bottom: 0.5em;}#sk-container-id-3 div.sk-estimator:hover {background-color: #d4ebff;}#sk-container-id-3 div.sk-parallel-item::after {content: \"\";width: 100%;border-bottom: 1px solid gray;flex-grow: 1;}#sk-container-id-3 div.sk-label:hover label.sk-toggleable__label {background-color: #d4ebff;}#sk-container-id-3 div.sk-serial::before {content: \"\";position: absolute;border-left: 1px solid gray;box-sizing: border-box;top: 0;bottom: 0;left: 50%;z-index: 0;}#sk-container-id-3 div.sk-serial {display: flex;flex-direction: column;align-items: center;background-color: white;padding-right: 0.2em;padding-left: 0.2em;position: relative;}#sk-container-id-3 div.sk-item {position: relative;z-index: 1;}#sk-container-id-3 div.sk-parallel {display: flex;align-items: stretch;justify-content: center;background-color: white;position: relative;}#sk-container-id-3 div.sk-item::before, #sk-container-id-3 div.sk-parallel-item::before {content: \"\";position: absolute;border-left: 1px solid gray;box-sizing: border-box;top: 0;bottom: 0;left: 50%;z-index: -1;}#sk-container-id-3 div.sk-parallel-item {display: flex;flex-direction: column;z-index: 1;position: relative;background-color: white;}#sk-container-id-3 div.sk-parallel-item:first-child::after {align-self: flex-end;width: 50%;}#sk-container-id-3 div.sk-parallel-item:last-child::after {align-self: flex-start;width: 50%;}#sk-container-id-3 div.sk-parallel-item:only-child::after {width: 0;}#sk-container-id-3 div.sk-dashed-wrapped {border: 1px dashed gray;margin: 0 0.4em 0.5em 0.4em;box-sizing: border-box;padding-bottom: 0.4em;background-color: white;}#sk-container-id-3 div.sk-label label {font-family: monospace;font-weight: bold;display: inline-block;line-height: 1.2em;}#sk-container-id-3 div.sk-label-container {text-align: center;}#sk-container-id-3 div.sk-container {/* jupyter's `normalize.less` sets `[hidden] { display: none; }` but bootstrap.min.css set `[hidden] { display: none !important; }` so we also need the `!important` here to be able to override the default hidden behavior on the sphinx rendered scikit-learn.org. See: https://github.com/scikit-learn/scikit-learn/issues/21755 */display: inline-block !important;position: relative;}#sk-container-id-3 div.sk-text-repr-fallback {display: none;}</style><div id=\"sk-container-id-3\" class=\"sk-top-container\"><div class=\"sk-text-repr-fallback\"><pre>Pipeline(steps=[(&#x27;preproceser&#x27;,\n",
       "                 ColumnTransformer(transformers=[(&#x27;numerical_transformers&#x27;,\n",
       "                                                  Pipeline(steps=[(&#x27;standardScaler&#x27;,\n",
       "                                                                   StandardScaler())]),\n",
       "                                                  [&#x27;Store&#x27;, &#x27;DayOfWeek&#x27;,\n",
       "                                                   &#x27;Customers&#x27;, &#x27;Open&#x27;, &#x27;Promo&#x27;,\n",
       "                                                   &#x27;SchoolHoliday&#x27;,\n",
       "                                                   &#x27;CompetitionDistance&#x27;,\n",
       "                                                   &#x27;CompetitionOpenSinceMonth&#x27;,\n",
       "                                                   &#x27;CompetitionOpenSinceYear&#x27;,\n",
       "                                                   &#x27;Promo2&#x27;, &#x27;Promo2SinceWeek&#x27;,\n",
       "                                                   &#x27;Promo2SinceYear&#x27;]),\n",
       "                                                 (&#x27;catagorical_trandsformer&#x27;,\n",
       "                                                  Pipeline(steps=[(&#x27;oneHotEncoder&#x27;,\n",
       "                                                                   OneHotEncoder())]),\n",
       "                                                  [&#x27;StateHoliday&#x27;, &#x27;StoreType&#x27;,\n",
       "                                                   &#x27;Assortment&#x27;,\n",
       "                                                   &#x27;PromoInterval&#x27;])])),\n",
       "                (&#x27;modeling&#x27;, RandomForestRegressor(n_jobs=4))])</pre><b>In a Jupyter environment, please rerun this cell to show the HTML representation or trust the notebook. <br />On GitHub, the HTML representation is unable to render, please try loading this page with nbviewer.org.</b></div><div class=\"sk-container\" hidden><div class=\"sk-item sk-dashed-wrapped\"><div class=\"sk-label-container\"><div class=\"sk-label sk-toggleable\"><input class=\"sk-toggleable__control sk-hidden--visually\" id=\"sk-estimator-id-15\" type=\"checkbox\" ><label for=\"sk-estimator-id-15\" class=\"sk-toggleable__label sk-toggleable__label-arrow\">Pipeline</label><div class=\"sk-toggleable__content\"><pre>Pipeline(steps=[(&#x27;preproceser&#x27;,\n",
       "                 ColumnTransformer(transformers=[(&#x27;numerical_transformers&#x27;,\n",
       "                                                  Pipeline(steps=[(&#x27;standardScaler&#x27;,\n",
       "                                                                   StandardScaler())]),\n",
       "                                                  [&#x27;Store&#x27;, &#x27;DayOfWeek&#x27;,\n",
       "                                                   &#x27;Customers&#x27;, &#x27;Open&#x27;, &#x27;Promo&#x27;,\n",
       "                                                   &#x27;SchoolHoliday&#x27;,\n",
       "                                                   &#x27;CompetitionDistance&#x27;,\n",
       "                                                   &#x27;CompetitionOpenSinceMonth&#x27;,\n",
       "                                                   &#x27;CompetitionOpenSinceYear&#x27;,\n",
       "                                                   &#x27;Promo2&#x27;, &#x27;Promo2SinceWeek&#x27;,\n",
       "                                                   &#x27;Promo2SinceYear&#x27;]),\n",
       "                                                 (&#x27;catagorical_trandsformer&#x27;,\n",
       "                                                  Pipeline(steps=[(&#x27;oneHotEncoder&#x27;,\n",
       "                                                                   OneHotEncoder())]),\n",
       "                                                  [&#x27;StateHoliday&#x27;, &#x27;StoreType&#x27;,\n",
       "                                                   &#x27;Assortment&#x27;,\n",
       "                                                   &#x27;PromoInterval&#x27;])])),\n",
       "                (&#x27;modeling&#x27;, RandomForestRegressor(n_jobs=4))])</pre></div></div></div><div class=\"sk-serial\"><div class=\"sk-item sk-dashed-wrapped\"><div class=\"sk-label-container\"><div class=\"sk-label sk-toggleable\"><input class=\"sk-toggleable__control sk-hidden--visually\" id=\"sk-estimator-id-16\" type=\"checkbox\" ><label for=\"sk-estimator-id-16\" class=\"sk-toggleable__label sk-toggleable__label-arrow\">preproceser: ColumnTransformer</label><div class=\"sk-toggleable__content\"><pre>ColumnTransformer(transformers=[(&#x27;numerical_transformers&#x27;,\n",
       "                                 Pipeline(steps=[(&#x27;standardScaler&#x27;,\n",
       "                                                  StandardScaler())]),\n",
       "                                 [&#x27;Store&#x27;, &#x27;DayOfWeek&#x27;, &#x27;Customers&#x27;, &#x27;Open&#x27;,\n",
       "                                  &#x27;Promo&#x27;, &#x27;SchoolHoliday&#x27;,\n",
       "                                  &#x27;CompetitionDistance&#x27;,\n",
       "                                  &#x27;CompetitionOpenSinceMonth&#x27;,\n",
       "                                  &#x27;CompetitionOpenSinceYear&#x27;, &#x27;Promo2&#x27;,\n",
       "                                  &#x27;Promo2SinceWeek&#x27;, &#x27;Promo2SinceYear&#x27;]),\n",
       "                                (&#x27;catagorical_trandsformer&#x27;,\n",
       "                                 Pipeline(steps=[(&#x27;oneHotEncoder&#x27;,\n",
       "                                                  OneHotEncoder())]),\n",
       "                                 [&#x27;StateHoliday&#x27;, &#x27;StoreType&#x27;, &#x27;Assortment&#x27;,\n",
       "                                  &#x27;PromoInterval&#x27;])])</pre></div></div></div><div class=\"sk-parallel\"><div class=\"sk-parallel-item\"><div class=\"sk-item\"><div class=\"sk-label-container\"><div class=\"sk-label sk-toggleable\"><input class=\"sk-toggleable__control sk-hidden--visually\" id=\"sk-estimator-id-17\" type=\"checkbox\" ><label for=\"sk-estimator-id-17\" class=\"sk-toggleable__label sk-toggleable__label-arrow\">numerical_transformers</label><div class=\"sk-toggleable__content\"><pre>[&#x27;Store&#x27;, &#x27;DayOfWeek&#x27;, &#x27;Customers&#x27;, &#x27;Open&#x27;, &#x27;Promo&#x27;, &#x27;SchoolHoliday&#x27;, &#x27;CompetitionDistance&#x27;, &#x27;CompetitionOpenSinceMonth&#x27;, &#x27;CompetitionOpenSinceYear&#x27;, &#x27;Promo2&#x27;, &#x27;Promo2SinceWeek&#x27;, &#x27;Promo2SinceYear&#x27;]</pre></div></div></div><div class=\"sk-serial\"><div class=\"sk-item\"><div class=\"sk-serial\"><div class=\"sk-item\"><div class=\"sk-estimator sk-toggleable\"><input class=\"sk-toggleable__control sk-hidden--visually\" id=\"sk-estimator-id-18\" type=\"checkbox\" ><label for=\"sk-estimator-id-18\" class=\"sk-toggleable__label sk-toggleable__label-arrow\">StandardScaler</label><div class=\"sk-toggleable__content\"><pre>StandardScaler()</pre></div></div></div></div></div></div></div></div><div class=\"sk-parallel-item\"><div class=\"sk-item\"><div class=\"sk-label-container\"><div class=\"sk-label sk-toggleable\"><input class=\"sk-toggleable__control sk-hidden--visually\" id=\"sk-estimator-id-19\" type=\"checkbox\" ><label for=\"sk-estimator-id-19\" class=\"sk-toggleable__label sk-toggleable__label-arrow\">catagorical_trandsformer</label><div class=\"sk-toggleable__content\"><pre>[&#x27;StateHoliday&#x27;, &#x27;StoreType&#x27;, &#x27;Assortment&#x27;, &#x27;PromoInterval&#x27;]</pre></div></div></div><div class=\"sk-serial\"><div class=\"sk-item\"><div class=\"sk-serial\"><div class=\"sk-item\"><div class=\"sk-estimator sk-toggleable\"><input class=\"sk-toggleable__control sk-hidden--visually\" id=\"sk-estimator-id-20\" type=\"checkbox\" ><label for=\"sk-estimator-id-20\" class=\"sk-toggleable__label sk-toggleable__label-arrow\">OneHotEncoder</label><div class=\"sk-toggleable__content\"><pre>OneHotEncoder()</pre></div></div></div></div></div></div></div></div></div></div><div class=\"sk-item\"><div class=\"sk-estimator sk-toggleable\"><input class=\"sk-toggleable__control sk-hidden--visually\" id=\"sk-estimator-id-21\" type=\"checkbox\" ><label for=\"sk-estimator-id-21\" class=\"sk-toggleable__label sk-toggleable__label-arrow\">RandomForestRegressor</label><div class=\"sk-toggleable__content\"><pre>RandomForestRegressor(n_jobs=4)</pre></div></div></div></div></div></div></div>"
      ],
      "text/plain": [
       "Pipeline(steps=[('preproceser',\n",
       "                 ColumnTransformer(transformers=[('numerical_transformers',\n",
       "                                                  Pipeline(steps=[('standardScaler',\n",
       "                                                                   StandardScaler())]),\n",
       "                                                  ['Store', 'DayOfWeek',\n",
       "                                                   'Customers', 'Open', 'Promo',\n",
       "                                                   'SchoolHoliday',\n",
       "                                                   'CompetitionDistance',\n",
       "                                                   'CompetitionOpenSinceMonth',\n",
       "                                                   'CompetitionOpenSinceYear',\n",
       "                                                   'Promo2', 'Promo2SinceWeek',\n",
       "                                                   'Promo2SinceYear']),\n",
       "                                                 ('catagorical_trandsformer',\n",
       "                                                  Pipeline(steps=[('oneHotEncoder',\n",
       "                                                                   OneHotEncoder())]),\n",
       "                                                  ['StateHoliday', 'StoreType',\n",
       "                                                   'Assortment',\n",
       "                                                   'PromoInterval'])])),\n",
       "                ('modeling', RandomForestRegressor(n_jobs=4))])"
      ]
     },
     "execution_count": 43,
     "metadata": {},
     "output_type": "execute_result"
    }
   ],
   "source": [
    "x = train.drop(columns = ['Date', 'Sales'])\n",
    "y = train.Sales.values\n",
    "pipeline.fit(x,y)"
   ]
  },
  {
   "cell_type": "code",
   "execution_count": 24,
   "metadata": {},
   "outputs": [],
   "source": [
    "# x_test.shape"
   ]
  },
  {
   "cell_type": "code",
   "execution_count": 41,
   "metadata": {},
   "outputs": [],
   "source": [
    "x_test = val.drop(columns = ['Date', 'Sales'])\n",
    "y_test = val.Sales.values\n",
    "\n",
    "from sklearn.metrics import mean_squared_error \n"
   ]
  },
  {
   "cell_type": "code",
   "execution_count": 45,
   "metadata": {},
   "outputs": [
    {
     "name": "stdout",
     "output_type": "stream",
     "text": [
      "895924.4959042\n"
     ]
    }
   ],
   "source": [
    "\n",
    "mlflow.set_tracking_uri('http://localhost:5000')\n",
    "        # mlflow.set_tracking_uri('../mlflow_outputs/mlruns')\n",
    "mlflow.set_experiment('Baseline model')\n",
    "with mlflow.start_run(run_name='first run'):\n",
    "#     mlflow.log_model(pipeline, 'Ml_Model')\n",
    "    mlflow.log_params(pipeline.get_params()['modeling'].get_params())\n",
    "    prediction = pipeline.predict(x_test)\n",
    "    mse = mean_squared_error(y_test, prediction)\n",
    "    print(mse)\n",
    "    mlflow.log_metric('mean_squared_error', mse)\n",
    "#     mlflow.log_metrics()\n"
   ]
  },
  {
   "cell_type": "code",
   "execution_count": null,
   "metadata": {},
   "outputs": [],
   "source": []
  }
 ],
 "metadata": {
  "interpreter": {
   "hash": "d95b27eb65d743a81830104088abc8daf4551ab806e49adf5769baed0b756351"
  },
  "kernelspec": {
   "display_name": "Python 3.10.4 ('pharma_env': venv)",
   "language": "python",
   "name": "python3"
  },
  "language_info": {
   "codemirror_mode": {
    "name": "ipython",
    "version": 3
   },
   "file_extension": ".py",
   "mimetype": "text/x-python",
   "name": "python",
   "nbconvert_exporter": "python",
   "pygments_lexer": "ipython3",
   "version": "3.10.4"
  },
  "orig_nbformat": 4
 },
 "nbformat": 4,
 "nbformat_minor": 2
}
